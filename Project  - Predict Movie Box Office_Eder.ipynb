{
 "cells": [
  {
   "cell_type": "markdown",
   "metadata": {},
   "source": [
    "# Project: Predict Movie Box Office\n",
    "\n",
    "\n",
    "Data for this case:   \n",
    "        \n",
    "        moviebuzz.csv \n",
    "\n"
   ]
  },
  {
   "cell_type": "code",
   "execution_count": 66,
   "metadata": {
    "collapsed": true
   },
   "outputs": [],
   "source": [
    "# Data Imports\n",
    "import numpy as np\n",
    "import pandas as pd\n",
    "\n",
    "# Plot imports\n",
    "import matplotlib.pyplot as plt\n",
    "import seaborn as sns\n",
    "sns.set_style('whitegrid')\n",
    "%matplotlib inline\n",
    "\n",
    "# Machine Learning Imports\n",
    "from sklearn.linear_model import LinearRegression\n",
    "from sklearn.model_selection import train_test_split\n",
    "\n",
    "# For evaluating our ML results\n",
    "#from sklearn import metrics\n",
    "from sklearn.metrics import mean_squared_error, r2_score"
   ]
  },
  {
   "cell_type": "markdown",
   "metadata": {},
   "source": [
    "## Exploratory Data Analysis (EDA)\n",
    "    \n",
    "Let us go ahead and take a look at the dataset"
   ]
  },
  {
   "cell_type": "code",
   "execution_count": 3,
   "metadata": {
    "collapsed": true
   },
   "outputs": [],
   "source": [
    "df = pd.read_csv('moviebuzz.csv')"
   ]
  },
  {
   "cell_type": "code",
   "execution_count": 4,
   "metadata": {},
   "outputs": [
    {
     "data": {
      "text/html": [
       "<div>\n",
       "<style>\n",
       "    .dataframe thead tr:only-child th {\n",
       "        text-align: right;\n",
       "    }\n",
       "\n",
       "    .dataframe thead th {\n",
       "        text-align: left;\n",
       "    }\n",
       "\n",
       "    .dataframe tbody tr th {\n",
       "        vertical-align: top;\n",
       "    }\n",
       "</style>\n",
       "<table border=\"1\" class=\"dataframe\">\n",
       "  <thead>\n",
       "    <tr style=\"text-align: right;\">\n",
       "      <th></th>\n",
       "      <th>Box</th>\n",
       "      <th>Rating</th>\n",
       "      <th>Budget</th>\n",
       "      <th>StarPower</th>\n",
       "      <th>Sequel</th>\n",
       "      <th>Action</th>\n",
       "      <th>Comedy</th>\n",
       "      <th>Animated</th>\n",
       "      <th>Horror</th>\n",
       "      <th>Fandango</th>\n",
       "      <th>HSX</th>\n",
       "      <th>Movie</th>\n",
       "    </tr>\n",
       "  </thead>\n",
       "  <tbody>\n",
       "    <tr>\n",
       "      <th>0</th>\n",
       "      <td>63106589.0</td>\n",
       "      <td>2</td>\n",
       "      <td>150.0</td>\n",
       "      <td>42.51</td>\n",
       "      <td>1</td>\n",
       "      <td>0</td>\n",
       "      <td>0</td>\n",
       "      <td>1</td>\n",
       "      <td>0</td>\n",
       "      <td>0.79</td>\n",
       "      <td>143.03</td>\n",
       "      <td>Madagascar 2</td>\n",
       "    </tr>\n",
       "    <tr>\n",
       "      <th>1</th>\n",
       "      <td>69637740.0</td>\n",
       "      <td>3</td>\n",
       "      <td>37.0</td>\n",
       "      <td>16.75</td>\n",
       "      <td>0</td>\n",
       "      <td>0</td>\n",
       "      <td>0</td>\n",
       "      <td>0</td>\n",
       "      <td>0</td>\n",
       "      <td>0.77</td>\n",
       "      <td>128.01</td>\n",
       "      <td>Twilight</td>\n",
       "    </tr>\n",
       "    <tr>\n",
       "      <th>2</th>\n",
       "      <td>67528882.0</td>\n",
       "      <td>3</td>\n",
       "      <td>200.0</td>\n",
       "      <td>28.08</td>\n",
       "      <td>1</td>\n",
       "      <td>1</td>\n",
       "      <td>0</td>\n",
       "      <td>0</td>\n",
       "      <td>0</td>\n",
       "      <td>0.76</td>\n",
       "      <td>163.91</td>\n",
       "      <td>Quantum of Solace</td>\n",
       "    </tr>\n",
       "    <tr>\n",
       "      <th>3</th>\n",
       "      <td>70950500.0</td>\n",
       "      <td>3</td>\n",
       "      <td>85.0</td>\n",
       "      <td>16.62</td>\n",
       "      <td>1</td>\n",
       "      <td>1</td>\n",
       "      <td>0</td>\n",
       "      <td>0</td>\n",
       "      <td>0</td>\n",
       "      <td>0.71</td>\n",
       "      <td>105.91</td>\n",
       "      <td>Fast and Furious</td>\n",
       "    </tr>\n",
       "    <tr>\n",
       "      <th>4</th>\n",
       "      <td>14851136.0</td>\n",
       "      <td>3</td>\n",
       "      <td>55.0</td>\n",
       "      <td>23.61</td>\n",
       "      <td>0</td>\n",
       "      <td>0</td>\n",
       "      <td>0</td>\n",
       "      <td>0</td>\n",
       "      <td>0</td>\n",
       "      <td>0.70</td>\n",
       "      <td>84.16</td>\n",
       "      <td>Seven Pounds</td>\n",
       "    </tr>\n",
       "  </tbody>\n",
       "</table>\n",
       "</div>"
      ],
      "text/plain": [
       "          Box  Rating  Budget  StarPower  Sequel  Action  Comedy  Animated  \\\n",
       "0  63106589.0       2   150.0      42.51       1       0       0         1   \n",
       "1  69637740.0       3    37.0      16.75       0       0       0         0   \n",
       "2  67528882.0       3   200.0      28.08       1       1       0         0   \n",
       "3  70950500.0       3    85.0      16.62       1       1       0         0   \n",
       "4  14851136.0       3    55.0      23.61       0       0       0         0   \n",
       "\n",
       "   Horror  Fandango     HSX              Movie  \n",
       "0       0      0.79  143.03       Madagascar 2  \n",
       "1       0      0.77  128.01           Twilight  \n",
       "2       0      0.76  163.91  Quantum of Solace  \n",
       "3       0      0.71  105.91   Fast and Furious  \n",
       "4       0      0.70   84.16       Seven Pounds  "
      ]
     },
     "execution_count": 4,
     "metadata": {},
     "output_type": "execute_result"
    }
   ],
   "source": [
    "df.head()"
   ]
  },
  {
   "cell_type": "markdown",
   "metadata": {},
   "source": [
    "### Exercise 1. Visualize the data\n",
    "\n",
    "Reminder: our target is to predict box office."
   ]
  },
  {
   "cell_type": "code",
   "execution_count": 73,
   "metadata": {},
   "outputs": [
    {
     "data": {
      "text/plain": [
       "<seaborn.axisgrid.FacetGrid at 0xdeb7d4f7f0>"
      ]
     },
     "execution_count": 73,
     "metadata": {},
     "output_type": "execute_result"
    },
    {
     "data": {
      "image/png": "[encoded data removed]",
      "text/plain": [
       "<matplotlib.figure.Figure at 0xdeb7d4fda0>"
      ]
     },
     "metadata": {},
     "output_type": "display_data"
    }
   ],
   "source": [
    "# Your code\n",
    "sns.lmplot('Box','Budget',data=df)\n",
    "#You would think that the more money you spend on making a movie, the better it will perform\n",
    "#at the Box office. There seems to be a relationship, however it is hard to tell with certainty since variability \n",
    "# of \"Box\" increases as \"Budgets\" increase. Possible heteroskedasticity?"
   ]
  },
  {
   "cell_type": "markdown",
   "metadata": {},
   "source": [
    "  \n",
    " \n",
    "# Prepare dataset"
   ]
  },
  {
   "cell_type": "code",
   "execution_count": 51,
   "metadata": {},
   "outputs": [
    {
     "data": {
      "text/html": [
       "<div>\n",
       "<style>\n",
       "    .dataframe thead tr:only-child th {\n",
       "        text-align: right;\n",
       "    }\n",
       "\n",
       "    .dataframe thead th {\n",
       "        text-align: left;\n",
       "    }\n",
       "\n",
       "    .dataframe tbody tr th {\n",
       "        vertical-align: top;\n",
       "    }\n",
       "</style>\n",
       "<table border=\"1\" class=\"dataframe\">\n",
       "  <thead>\n",
       "    <tr style=\"text-align: right;\">\n",
       "      <th></th>\n",
       "      <th>Rating</th>\n",
       "      <th>Budget</th>\n",
       "      <th>StarPower</th>\n",
       "      <th>Sequel</th>\n",
       "      <th>Action</th>\n",
       "      <th>Comedy</th>\n",
       "      <th>Animated</th>\n",
       "      <th>Horror</th>\n",
       "      <th>Fandango</th>\n",
       "      <th>HSX</th>\n",
       "    </tr>\n",
       "  </thead>\n",
       "  <tbody>\n",
       "    <tr>\n",
       "      <th>0</th>\n",
       "      <td>2</td>\n",
       "      <td>150.0</td>\n",
       "      <td>42.51</td>\n",
       "      <td>1</td>\n",
       "      <td>0</td>\n",
       "      <td>0</td>\n",
       "      <td>1</td>\n",
       "      <td>0</td>\n",
       "      <td>0.79</td>\n",
       "      <td>143.03</td>\n",
       "    </tr>\n",
       "    <tr>\n",
       "      <th>1</th>\n",
       "      <td>3</td>\n",
       "      <td>37.0</td>\n",
       "      <td>16.75</td>\n",
       "      <td>0</td>\n",
       "      <td>0</td>\n",
       "      <td>0</td>\n",
       "      <td>0</td>\n",
       "      <td>0</td>\n",
       "      <td>0.77</td>\n",
       "      <td>128.01</td>\n",
       "    </tr>\n",
       "    <tr>\n",
       "      <th>2</th>\n",
       "      <td>3</td>\n",
       "      <td>200.0</td>\n",
       "      <td>28.08</td>\n",
       "      <td>1</td>\n",
       "      <td>1</td>\n",
       "      <td>0</td>\n",
       "      <td>0</td>\n",
       "      <td>0</td>\n",
       "      <td>0.76</td>\n",
       "      <td>163.91</td>\n",
       "    </tr>\n",
       "    <tr>\n",
       "      <th>3</th>\n",
       "      <td>3</td>\n",
       "      <td>85.0</td>\n",
       "      <td>16.62</td>\n",
       "      <td>1</td>\n",
       "      <td>1</td>\n",
       "      <td>0</td>\n",
       "      <td>0</td>\n",
       "      <td>0</td>\n",
       "      <td>0.71</td>\n",
       "      <td>105.91</td>\n",
       "    </tr>\n",
       "    <tr>\n",
       "      <th>4</th>\n",
       "      <td>3</td>\n",
       "      <td>55.0</td>\n",
       "      <td>23.61</td>\n",
       "      <td>0</td>\n",
       "      <td>0</td>\n",
       "      <td>0</td>\n",
       "      <td>0</td>\n",
       "      <td>0</td>\n",
       "      <td>0.70</td>\n",
       "      <td>84.16</td>\n",
       "    </tr>\n",
       "  </tbody>\n",
       "</table>\n",
       "</div>"
      ],
      "text/plain": [
       "   Rating  Budget  StarPower  Sequel  Action  Comedy  Animated  Horror  \\\n",
       "0       2   150.0      42.51       1       0       0         1       0   \n",
       "1       3    37.0      16.75       0       0       0         0       0   \n",
       "2       3   200.0      28.08       1       1       0         0       0   \n",
       "3       3    85.0      16.62       1       1       0         0       0   \n",
       "4       3    55.0      23.61       0       0       0         0       0   \n",
       "\n",
       "   Fandango     HSX  \n",
       "0      0.79  143.03  \n",
       "1      0.77  128.01  \n",
       "2      0.76  163.91  \n",
       "3      0.71  105.91  \n",
       "4      0.70   84.16  "
      ]
     },
     "execution_count": 51,
     "metadata": {},
     "output_type": "execute_result"
    }
   ],
   "source": [
    "X = df.drop(['Box', 'Movie'], axis = 1)\n",
    "\n",
    "X.head()"
   ]
  },
  {
   "cell_type": "code",
   "execution_count": 50,
   "metadata": {},
   "outputs": [
    {
     "data": {
      "text/plain": [
       "0    63106589.0\n",
       "1    69637740.0\n",
       "2    67528882.0\n",
       "3    70950500.0\n",
       "4    14851136.0\n",
       "Name: Box, dtype: float64"
      ]
     },
     "execution_count": 50,
     "metadata": {},
     "output_type": "execute_result"
    }
   ],
   "source": [
    "Y = df['Box']\n",
    "\n",
    "Y.head()"
   ]
  },
  {
   "cell_type": "markdown",
   "metadata": {},
   "source": [
    "# Using scikit learn to implement a multivariate linear regression\n",
    "\n",
    "Hint: https://github.com/MIS6300-2017Fall/python-machine-learning/blob/master/1.1%20-%20Linear%20Regression%20Example%20(short%20version).ipynb"
   ]
  },
  {
   "cell_type": "markdown",
   "metadata": {},
   "source": [
    "### Exercise 2. Implement a multivariate linear regression\n",
    "\n",
    "You need to:\n",
    "\n",
    "1. Split the data into training/testing sets\n",
    "2. Create linear regression object\n",
    "3. Train the model using the training sets\n",
    "4. Make predictions using the testing set\n",
    "5. Report coefficients, mean squared error(MSE) and variance score(R-square). "
   ]
  },
  {
   "cell_type": "code",
   "execution_count": 74,
   "metadata": {},
   "outputs": [
    {
     "name": "stdout",
     "output_type": "stream",
     "text": [
      "        Movie  Coefficient Estimate\n",
      "0         Box         -5.829318e+05\n",
      "1      Rating         -1.474459e+04\n",
      "2      Budget         -1.836539e+05\n",
      "3   StarPower          8.235167e+06\n",
      "4      Sequel         -7.090736e+06\n",
      "5      Action          8.069517e+05\n",
      "6      Comedy         -6.017147e+06\n",
      "7    Animated          4.836393e+06\n",
      "8      Horror          1.664350e+07\n",
      "9    Fandango          3.732232e+05\n",
      "10        HSX                   NaN\n",
      "11      Movie                   NaN\n",
      "\n",
      "Mean squared error: 119772924787583.44\n",
      "Variance score: 0.52\n"
     ]
    }
   ],
   "source": [
    "# Your code\n",
    "#Spliting the data into training/testing sets\n",
    "X_train, X_test, Y_train, Y_test = train_test_split(X,Y)\n",
    "\n",
    "#Creating a Linear Regression Object\n",
    "lreg = LinearRegression()\n",
    "\n",
    "#Training the model using the training sets\n",
    "lreg.fit(X_train, Y_train)\n",
    "\n",
    "#Predictions on test set\n",
    "pred_test = lreg.predict(X_test)\n",
    "\n",
    "#Coefficient Report\n",
    "coeff_df = pd.DataFrame(df.columns)\n",
    "coeff_df.columns = ['Movie']\n",
    "coeff_df[\"Coefficient Estimate\"] = pd.Series(lreg.coef_)\n",
    "print(coeff_df)\n",
    "\n",
    "#Mean squared error\n",
    "print(\"\\nMean squared error: %.2f\"\n",
    "      % mean_squared_error(Y_test, pred_test))\n",
    "#R2\n",
    "print('Variance score: %.2f' % r2_score(Y_test, pred_test))"
   ]
  },
  {
   "cell_type": "code",
   "execution_count": null,
   "metadata": {
    "collapsed": true
   },
   "outputs": [],
   "source": []
  }
 ],
 "metadata": {
  "kernelspec": {
   "display_name": "Python 3",
   "language": "python",
   "name": "python3"
  },
  "language_info": {
   "codemirror_mode": {
    "name": "ipython",
    "version": 3
   },
   "file_extension": ".py",
   "mimetype": "text/x-python",
   "name": "python",
   "nbconvert_exporter": "python",
   "pygments_lexer": "ipython3",
   "version": "3.6.3"
  }
 },
 "nbformat": 4,
 "nbformat_minor": 2
}

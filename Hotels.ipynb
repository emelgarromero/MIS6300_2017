{
 "cells": [
  {
   "cell_type": "markdown",
   "metadata": {
    "_cell_guid": "cdf6fecd-2e87-55a0-f703-eed72cd04e96",
    "_uuid": "4fc1bf282222ee8fa04b235f7ad15bc47e504166"
   },
   "source": [
    "# hotel reviews\n",
    "\n",
    "This small dataset contains 34043 hotel reviews collected from tripadvisor.com."
   ]
  },
  {
   "cell_type": "code",
   "execution_count": 1,
   "metadata": {
    "_cell_guid": "e44115d8-0999-9542-77d1-91d4362a57e2",
    "_uuid": "22917b7543af274c8ff2ad1adb83006a7d8fc2e9",
    "collapsed": true
   },
   "outputs": [],
   "source": [
    "import pandas as pd\n",
    "import numpy as np\n",
    "from IPython.display import display\n",
    "import matplotlib.pyplot as plt\n",
    "%matplotlib inline"
   ]
  },
  {
   "cell_type": "markdown",
   "metadata": {},
   "source": [
    "### Loading data"
   ]
  },
  {
   "cell_type": "code",
   "execution_count": 2,
   "metadata": {},
   "outputs": [
    {
     "data": {
      "text/html": [
       "<div>\n",
       "<style>\n",
       "    .dataframe thead tr:only-child th {\n",
       "        text-align: right;\n",
       "    }\n",
       "\n",
       "    .dataframe thead th {\n",
       "        text-align: left;\n",
       "    }\n",
       "\n",
       "    .dataframe tbody tr th {\n",
       "        vertical-align: top;\n",
       "    }\n",
       "</style>\n",
       "<table border=\"1\" class=\"dataframe\">\n",
       "  <thead>\n",
       "    <tr style=\"text-align: right;\">\n",
       "      <th></th>\n",
       "      <th>address</th>\n",
       "      <th>city</th>\n",
       "      <th>name</th>\n",
       "      <th>postalCode</th>\n",
       "      <th>state</th>\n",
       "      <th>review_date</th>\n",
       "      <th>rating</th>\n",
       "      <th>review_text</th>\n",
       "      <th>review_title</th>\n",
       "      <th>username</th>\n",
       "    </tr>\n",
       "  </thead>\n",
       "  <tbody>\n",
       "    <tr>\n",
       "      <th>0</th>\n",
       "      <td>Riviera San Nicol 11/a</td>\n",
       "      <td>Mableton</td>\n",
       "      <td>Hotel Russo Palace</td>\n",
       "      <td>30126</td>\n",
       "      <td>GA</td>\n",
       "      <td>2013-09-22</td>\n",
       "      <td>4.0</td>\n",
       "      <td>Pleasant 10 min walk along the sea front to th...</td>\n",
       "      <td>Good location away from the crouds</td>\n",
       "      <td>Russ (kent)</td>\n",
       "    </tr>\n",
       "    <tr>\n",
       "      <th>1</th>\n",
       "      <td>Riviera San Nicol 11/a</td>\n",
       "      <td>Mableton</td>\n",
       "      <td>Hotel Russo Palace</td>\n",
       "      <td>30126</td>\n",
       "      <td>GA</td>\n",
       "      <td>2015-04-03</td>\n",
       "      <td>5.0</td>\n",
       "      <td>Really lovely hotel. Stayed on the very top fl...</td>\n",
       "      <td>Great hotel with Jacuzzi bath!</td>\n",
       "      <td>A Traveler</td>\n",
       "    </tr>\n",
       "    <tr>\n",
       "      <th>2</th>\n",
       "      <td>Riviera San Nicol 11/a</td>\n",
       "      <td>Mableton</td>\n",
       "      <td>Hotel Russo Palace</td>\n",
       "      <td>30126</td>\n",
       "      <td>GA</td>\n",
       "      <td>2014-05-13</td>\n",
       "      <td>5.0</td>\n",
       "      <td>Ett mycket bra hotell. Det som drog ner betyge...</td>\n",
       "      <td>Lugnt l��ge</td>\n",
       "      <td>Maud</td>\n",
       "    </tr>\n",
       "    <tr>\n",
       "      <th>3</th>\n",
       "      <td>Riviera San Nicol 11/a</td>\n",
       "      <td>Mableton</td>\n",
       "      <td>Hotel Russo Palace</td>\n",
       "      <td>30126</td>\n",
       "      <td>GA</td>\n",
       "      <td>2013-10-27</td>\n",
       "      <td>5.0</td>\n",
       "      <td>We stayed here for four nights in October. The...</td>\n",
       "      <td>Good location on the Lido.</td>\n",
       "      <td>Julie</td>\n",
       "    </tr>\n",
       "    <tr>\n",
       "      <th>4</th>\n",
       "      <td>Riviera San Nicol 11/a</td>\n",
       "      <td>Mableton</td>\n",
       "      <td>Hotel Russo Palace</td>\n",
       "      <td>30126</td>\n",
       "      <td>GA</td>\n",
       "      <td>2015-03-05</td>\n",
       "      <td>5.0</td>\n",
       "      <td>We stayed here for four nights in October. The...</td>\n",
       "      <td>������ ���������������</td>\n",
       "      <td>sungchul</td>\n",
       "    </tr>\n",
       "  </tbody>\n",
       "</table>\n",
       "</div>"
      ],
      "text/plain": [
       "                  address      city                name postalCode state  \\\n",
       "0  Riviera San Nicol 11/a  Mableton  Hotel Russo Palace      30126    GA   \n",
       "1  Riviera San Nicol 11/a  Mableton  Hotel Russo Palace      30126    GA   \n",
       "2  Riviera San Nicol 11/a  Mableton  Hotel Russo Palace      30126    GA   \n",
       "3  Riviera San Nicol 11/a  Mableton  Hotel Russo Palace      30126    GA   \n",
       "4  Riviera San Nicol 11/a  Mableton  Hotel Russo Palace      30126    GA   \n",
       "\n",
       "  review_date  rating                                        review_text  \\\n",
       "0  2013-09-22     4.0  Pleasant 10 min walk along the sea front to th...   \n",
       "1  2015-04-03     5.0  Really lovely hotel. Stayed on the very top fl...   \n",
       "2  2014-05-13     5.0  Ett mycket bra hotell. Det som drog ner betyge...   \n",
       "3  2013-10-27     5.0  We stayed here for four nights in October. The...   \n",
       "4  2015-03-05     5.0  We stayed here for four nights in October. The...   \n",
       "\n",
       "                         review_title     username  \n",
       "0  Good location away from the crouds  Russ (kent)  \n",
       "1      Great hotel with Jacuzzi bath!   A Traveler  \n",
       "2                         Lugnt l��ge         Maud  \n",
       "3          Good location on the Lido.        Julie  \n",
       "4              ������ ���������������     sungchul  "
      ]
     },
     "execution_count": 2,
     "metadata": {},
     "output_type": "execute_result"
    }
   ],
   "source": [
    "hotels = pd.read_csv('hotels.csv',encoding='utf-8')\n",
    "hotels.head()"
   ]
  },
  {
   "cell_type": "code",
   "execution_count": 3,
   "metadata": {},
   "outputs": [
    {
     "data": {
      "text/plain": [
       "(34043, 10)"
      ]
     },
     "execution_count": 3,
     "metadata": {},
     "output_type": "execute_result"
    }
   ],
   "source": [
    "hotels.shape"
   ]
  },
  {
   "cell_type": "markdown",
   "metadata": {},
   "source": [
    "## Question 1 (5 points): \n",
    "\n",
    "Create a new dataframe that only contains the reviews for hotels in Massachusetts "
   ]
  },
  {
   "cell_type": "code",
   "execution_count": 15,
   "metadata": {},
   "outputs": [
    {
     "data": {
      "text/html": [
       "<div>\n",
       "<style>\n",
       "    .dataframe thead tr:only-child th {\n",
       "        text-align: right;\n",
       "    }\n",
       "\n",
       "    .dataframe thead th {\n",
       "        text-align: left;\n",
       "    }\n",
       "\n",
       "    .dataframe tbody tr th {\n",
       "        vertical-align: top;\n",
       "    }\n",
       "</style>\n",
       "<table border=\"1\" class=\"dataframe\">\n",
       "  <thead>\n",
       "    <tr style=\"text-align: right;\">\n",
       "      <th></th>\n",
       "      <th>address</th>\n",
       "      <th>city</th>\n",
       "      <th>name</th>\n",
       "      <th>postalCode</th>\n",
       "      <th>state</th>\n",
       "      <th>review_date</th>\n",
       "      <th>rating</th>\n",
       "      <th>review_text</th>\n",
       "      <th>review_title</th>\n",
       "      <th>username</th>\n",
       "    </tr>\n",
       "  </thead>\n",
       "  <tbody>\n",
       "    <tr>\n",
       "      <th>997</th>\n",
       "      <td>99 Saint Botolph St</td>\n",
       "      <td>Boston</td>\n",
       "      <td>The Inn @ St. Botolph</td>\n",
       "      <td>2116</td>\n",
       "      <td>MA</td>\n",
       "      <td>2014-08-18</td>\n",
       "      <td>5.0</td>\n",
       "      <td>We have stayed here a few times and each time ...</td>\n",
       "      <td>Always a great experience</td>\n",
       "      <td>Dennis D</td>\n",
       "    </tr>\n",
       "    <tr>\n",
       "      <th>998</th>\n",
       "      <td>99 Saint Botolph St</td>\n",
       "      <td>Boston</td>\n",
       "      <td>The Inn @ St. Botolph</td>\n",
       "      <td>2116</td>\n",
       "      <td>MA</td>\n",
       "      <td>2014-10-02</td>\n",
       "      <td>5.0</td>\n",
       "      <td>We were really happy with our choice of this h...</td>\n",
       "      <td>Great Hotel. Great location</td>\n",
       "      <td>decmac</td>\n",
       "    </tr>\n",
       "    <tr>\n",
       "      <th>999</th>\n",
       "      <td>99 Saint Botolph St</td>\n",
       "      <td>Boston</td>\n",
       "      <td>The Inn @ St. Botolph</td>\n",
       "      <td>2116</td>\n",
       "      <td>MA</td>\n",
       "      <td>2014-08-14</td>\n",
       "      <td>5.0</td>\n",
       "      <td>This is the perfect place to stay if you are p...</td>\n",
       "      <td>Home away from home</td>\n",
       "      <td>lmr206</td>\n",
       "    </tr>\n",
       "    <tr>\n",
       "      <th>1000</th>\n",
       "      <td>99 Saint Botolph St</td>\n",
       "      <td>Boston</td>\n",
       "      <td>The Inn @ St. Botolph</td>\n",
       "      <td>2116</td>\n",
       "      <td>MA</td>\n",
       "      <td>2015-05-28</td>\n",
       "      <td>5.0</td>\n",
       "      <td>I spent three days in this wonderful hotel, th...</td>\n",
       "      <td>great place to stay</td>\n",
       "      <td>chenting0328</td>\n",
       "    </tr>\n",
       "    <tr>\n",
       "      <th>1001</th>\n",
       "      <td>99 Saint Botolph St</td>\n",
       "      <td>Boston</td>\n",
       "      <td>The Inn @ St. Botolph</td>\n",
       "      <td>2116</td>\n",
       "      <td>MA</td>\n",
       "      <td>2014-09-02</td>\n",
       "      <td>5.0</td>\n",
       "      <td>We had a wonderful stay in the studio room. Co...</td>\n",
       "      <td>Special find, great location</td>\n",
       "      <td>Susan S</td>\n",
       "    </tr>\n",
       "  </tbody>\n",
       "</table>\n",
       "</div>"
      ],
      "text/plain": [
       "                  address    city                   name postalCode state  \\\n",
       "997   99 Saint Botolph St  Boston  The Inn @ St. Botolph       2116    MA   \n",
       "998   99 Saint Botolph St  Boston  The Inn @ St. Botolph       2116    MA   \n",
       "999   99 Saint Botolph St  Boston  The Inn @ St. Botolph       2116    MA   \n",
       "1000  99 Saint Botolph St  Boston  The Inn @ St. Botolph       2116    MA   \n",
       "1001  99 Saint Botolph St  Boston  The Inn @ St. Botolph       2116    MA   \n",
       "\n",
       "     review_date  rating                                        review_text  \\\n",
       "997   2014-08-18     5.0  We have stayed here a few times and each time ...   \n",
       "998   2014-10-02     5.0  We were really happy with our choice of this h...   \n",
       "999   2014-08-14     5.0  This is the perfect place to stay if you are p...   \n",
       "1000  2015-05-28     5.0  I spent three days in this wonderful hotel, th...   \n",
       "1001  2014-09-02     5.0  We had a wonderful stay in the studio room. Co...   \n",
       "\n",
       "                      review_title      username  \n",
       "997      Always a great experience      Dennis D  \n",
       "998    Great Hotel. Great location        decmac  \n",
       "999            Home away from home        lmr206  \n",
       "1000           great place to stay  chenting0328  \n",
       "1001  Special find, great location       Susan S  "
      ]
     },
     "execution_count": 15,
     "metadata": {},
     "output_type": "execute_result"
    }
   ],
   "source": [
    "mass = hotels[hotels['state'] == 'MA']\n",
    "mass.head()"
   ]
  },
  {
   "cell_type": "markdown",
   "metadata": {},
   "source": [
    " \n",
    "\n",
    "## Question 2 (5 points): \n",
    "What is the average rating for each hotel in MA? Can you visualize it?"
   ]
  },
  {
   "cell_type": "code",
   "execution_count": 37,
   "metadata": {},
   "outputs": [
    {
     "data": {
      "text/plain": [
       "3.5848684210526276"
      ]
     },
     "execution_count": 37,
     "metadata": {},
     "output_type": "execute_result"
    }
   ],
   "source": [
    "# What is the average rating for each hotel in MA? Can you visualize it?\n",
    "avg = mass['rating'].mean()\n",
    "avg\n"
   ]
  },
  {
   "cell_type": "markdown",
   "metadata": {},
   "source": [
    "## Question 3 (5 points):\n",
    "Add a new column to the dataframe to display how long each review_text is. Then find out the longest review."
   ]
  },
  {
   "cell_type": "code",
   "execution_count": 42,
   "metadata": {},
   "outputs": [
    {
     "name": "stderr",
     "output_type": "stream",
     "text": [
      "C:\\Anaconda3\\lib\\site-packages\\ipykernel_launcher.py:3: SettingWithCopyWarning: \n",
      "A value is trying to be set on a copy of a slice from a DataFrame.\n",
      "Try using .loc[row_indexer,col_indexer] = value instead\n",
      "\n",
      "See the caveats in the documentation: http://pandas.pydata.org/pandas-docs/stable/indexing.html#indexing-view-versus-copy\n",
      "  This is separate from the ipykernel package so we can avoid doing imports until\n"
     ]
    },
    {
     "data": {
      "text/plain": [
       "1489"
      ]
     },
     "execution_count": 42,
     "metadata": {},
     "output_type": "execute_result"
    }
   ],
   "source": [
    "# Make a new column to display how long each review_text is. Then find out the longest review.\n",
    "\n",
    "mass['length'] = mass['review_text'].apply(len)\n",
    "mass.head()\n",
    "\n",
    "mass['length'].max()"
   ]
  },
  {
   "cell_type": "markdown",
   "metadata": {},
   "source": [
    "## Question 4 (Optional, 10 bonus points) \n",
    "\n",
    "Using the full dataset, vectorize the texts. Train a machine learning model to predict rating.\n",
    "\n"
   ]
  },
  {
   "cell_type": "code",
   "execution_count": 7,
   "metadata": {
    "collapsed": true
   },
   "outputs": [],
   "source": [
    "# (Optional) Using the full dataset, vectorize the texts. Train a machine learning model to predict rating.\n",
    "\n",
    "\n"
   ]
  }
 ],
 "metadata": {
  "_change_revision": 0,
  "_is_fork": false,
  "kernelspec": {
   "display_name": "Python 3",
   "language": "python",
   "name": "python3"
  },
  "language_info": {
   "codemirror_mode": {
    "name": "ipython",
    "version": 3
   },
   "file_extension": ".py",
   "mimetype": "text/x-python",
   "name": "python",
   "nbconvert_exporter": "python",
   "pygments_lexer": "ipython3",
   "version": "3.6.3"
  }
 },
 "nbformat": 4,
 "nbformat_minor": 1
}
